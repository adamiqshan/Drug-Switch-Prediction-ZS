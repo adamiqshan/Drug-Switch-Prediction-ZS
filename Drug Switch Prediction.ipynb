{
 "cells": [
  {
   "cell_type": "code",
   "execution_count": 1,
   "metadata": {},
   "outputs": [],
   "source": [
    "import pandas as pd\n",
    "import numpy as np\n",
    "import matplotlib.pyplot as plt\n",
    "%matplotlib inline"
   ]
  },
  {
   "cell_type": "code",
   "execution_count": 3,
   "metadata": {},
   "outputs": [
    {
     "name": "stdout",
     "output_type": "stream",
     "text": [
      "Wall time: 2min 6s\n"
     ]
    },
    {
     "data": {
      "text/html": [
       "<div>\n",
       "<style scoped>\n",
       "    .dataframe tbody tr th:only-of-type {\n",
       "        vertical-align: middle;\n",
       "    }\n",
       "\n",
       "    .dataframe tbody tr th {\n",
       "        vertical-align: top;\n",
       "    }\n",
       "\n",
       "    .dataframe thead th {\n",
       "        text-align: right;\n",
       "    }\n",
       "</style>\n",
       "<table border=\"1\" class=\"dataframe\">\n",
       "  <thead>\n",
       "    <tr style=\"text-align: right;\">\n",
       "      <th></th>\n",
       "      <th>patient_id</th>\n",
       "      <th>event_name</th>\n",
       "      <th>event_time</th>\n",
       "      <th>specialty</th>\n",
       "      <th>plan_type</th>\n",
       "      <th>patient_payment</th>\n",
       "      <th>outcome_flag</th>\n",
       "    </tr>\n",
       "  </thead>\n",
       "  <tbody>\n",
       "    <tr>\n",
       "      <th>0</th>\n",
       "      <td>patient_1</td>\n",
       "      <td>event_1</td>\n",
       "      <td>47</td>\n",
       "      <td>spec_1</td>\n",
       "      <td>plan_1</td>\n",
       "      <td>0.0</td>\n",
       "      <td>0</td>\n",
       "    </tr>\n",
       "    <tr>\n",
       "      <th>1</th>\n",
       "      <td>patient_4</td>\n",
       "      <td>event_1</td>\n",
       "      <td>727</td>\n",
       "      <td>spec_1</td>\n",
       "      <td>plan_2</td>\n",
       "      <td>0.0</td>\n",
       "      <td>0</td>\n",
       "    </tr>\n",
       "    <tr>\n",
       "      <th>2</th>\n",
       "      <td>patient_6</td>\n",
       "      <td>event_1</td>\n",
       "      <td>738</td>\n",
       "      <td>spec_1</td>\n",
       "      <td>plan_1</td>\n",
       "      <td>0.0</td>\n",
       "      <td>0</td>\n",
       "    </tr>\n",
       "    <tr>\n",
       "      <th>3</th>\n",
       "      <td>patient_7</td>\n",
       "      <td>event_1</td>\n",
       "      <td>923</td>\n",
       "      <td>spec_1</td>\n",
       "      <td>plan_1</td>\n",
       "      <td>0.0</td>\n",
       "      <td>0</td>\n",
       "    </tr>\n",
       "    <tr>\n",
       "      <th>4</th>\n",
       "      <td>patient_9</td>\n",
       "      <td>event_1</td>\n",
       "      <td>49</td>\n",
       "      <td>spec_1</td>\n",
       "      <td>plan_1</td>\n",
       "      <td>0.0</td>\n",
       "      <td>0</td>\n",
       "    </tr>\n",
       "    <tr>\n",
       "      <th>5</th>\n",
       "      <td>patient_10</td>\n",
       "      <td>event_1</td>\n",
       "      <td>865</td>\n",
       "      <td>spec_1</td>\n",
       "      <td>plan_1</td>\n",
       "      <td>0.0</td>\n",
       "      <td>1</td>\n",
       "    </tr>\n",
       "    <tr>\n",
       "      <th>6</th>\n",
       "      <td>patient_11</td>\n",
       "      <td>event_1</td>\n",
       "      <td>770</td>\n",
       "      <td>spec_1</td>\n",
       "      <td>plan_1</td>\n",
       "      <td>0.0</td>\n",
       "      <td>0</td>\n",
       "    </tr>\n",
       "    <tr>\n",
       "      <th>7</th>\n",
       "      <td>patient_12</td>\n",
       "      <td>event_1</td>\n",
       "      <td>975</td>\n",
       "      <td>spec_1</td>\n",
       "      <td>plan_1</td>\n",
       "      <td>0.0</td>\n",
       "      <td>1</td>\n",
       "    </tr>\n",
       "    <tr>\n",
       "      <th>8</th>\n",
       "      <td>patient_13</td>\n",
       "      <td>event_1</td>\n",
       "      <td>414</td>\n",
       "      <td>spec_1</td>\n",
       "      <td>plan_2</td>\n",
       "      <td>0.0</td>\n",
       "      <td>0</td>\n",
       "    </tr>\n",
       "    <tr>\n",
       "      <th>9</th>\n",
       "      <td>patient_17</td>\n",
       "      <td>event_1</td>\n",
       "      <td>183</td>\n",
       "      <td>spec_1</td>\n",
       "      <td>plan_1</td>\n",
       "      <td>0.0</td>\n",
       "      <td>0</td>\n",
       "    </tr>\n",
       "  </tbody>\n",
       "</table>\n",
       "</div>"
      ],
      "text/plain": [
       "   patient_id event_name  event_time specialty plan_type  patient_payment  \\\n",
       "0   patient_1    event_1          47    spec_1    plan_1              0.0   \n",
       "1   patient_4    event_1         727    spec_1    plan_2              0.0   \n",
       "2   patient_6    event_1         738    spec_1    plan_1              0.0   \n",
       "3   patient_7    event_1         923    spec_1    plan_1              0.0   \n",
       "4   patient_9    event_1          49    spec_1    plan_1              0.0   \n",
       "5  patient_10    event_1         865    spec_1    plan_1              0.0   \n",
       "6  patient_11    event_1         770    spec_1    plan_1              0.0   \n",
       "7  patient_12    event_1         975    spec_1    plan_1              0.0   \n",
       "8  patient_13    event_1         414    spec_1    plan_2              0.0   \n",
       "9  patient_17    event_1         183    spec_1    plan_1              0.0   \n",
       "\n",
       "   outcome_flag  \n",
       "0             0  \n",
       "1             0  \n",
       "2             0  \n",
       "3             0  \n",
       "4             0  \n",
       "5             1  \n",
       "6             0  \n",
       "7             1  \n",
       "8             0  \n",
       "9             0  "
      ]
     },
     "execution_count": 3,
     "metadata": {},
     "output_type": "execute_result"
    }
   ],
   "source": [
    "%%time\n",
    "\n",
    "train=pd.read_csv('data/train_data.csv')\n",
    "labels=pd.read_csv('data/train_labels.csv')\n",
    "\n",
    "train_data = pd.merge(train, labels, how='left', on='patient_id')\n",
    "train_data.head(10)"
   ]
  },
  {
   "cell_type": "code",
   "execution_count": 4,
   "metadata": {},
   "outputs": [
    {
     "name": "stdout",
     "output_type": "stream",
     "text": [
      "<class 'pandas.core.frame.DataFrame'>\n",
      "Int64Index: 14446880 entries, 0 to 14446879\n",
      "Data columns (total 7 columns):\n",
      "patient_id         object\n",
      "event_name         object\n",
      "event_time         int64\n",
      "specialty          object\n",
      "plan_type          object\n",
      "patient_payment    float64\n",
      "outcome_flag       int64\n",
      "dtypes: float64(1), int64(2), object(4)\n",
      "memory usage: 881.8+ MB\n"
     ]
    }
   ],
   "source": [
    "train_data.info()"
   ]
  },
  {
   "cell_type": "code",
   "execution_count": 6,
   "metadata": {
    "scrolled": false
   },
   "outputs": [
    {
     "data": {
      "text/plain": [
       "patient_id         patient_1\n",
       "event_name           event_1\n",
       "event_time                 1\n",
       "specialty             spec_1\n",
       "plan_type             plan_1\n",
       "patient_payment         -150\n",
       "outcome_flag               0\n",
       "dtype: object"
      ]
     },
     "execution_count": 6,
     "metadata": {},
     "output_type": "execute_result"
    }
   ],
   "source": [
    "train_data.min()"
   ]
  },
  {
   "cell_type": "code",
   "execution_count": 7,
   "metadata": {},
   "outputs": [
    {
     "data": {
      "text/plain": [
       "patient_id         patient_9999\n",
       "event_name             event_99\n",
       "event_time                 1080\n",
       "specialty               spec_99\n",
       "plan_type                plan_6\n",
       "patient_payment         82959.3\n",
       "outcome_flag                  1\n",
       "dtype: object"
      ]
     },
     "execution_count": 7,
     "metadata": {},
     "output_type": "execute_result"
    }
   ],
   "source": [
    "train_data.max()"
   ]
  },
  {
   "cell_type": "code",
   "execution_count": 53,
   "metadata": {},
   "outputs": [],
   "source": [
    "for col in ['event_time','outcome_flag','patient_payment']:\n",
    "    if str(train_data[col].dtype)[:3] == 'int':\n",
    "        train_data[col] = pd.to_numeric(train_data[col], downcast='integer')\n",
    "    else:\n",
    "        train_data[col] = pd.to_numeric(train_data[col], downcast='float')"
   ]
  },
  {
   "cell_type": "code",
   "execution_count": 62,
   "metadata": {},
   "outputs": [],
   "source": [
    "cat_columns = ['event_name', 'specialty', 'plan_type']\n",
    "\n",
    "train_data[cat_columns] = train_data[cat_columns].apply(lambda x: x.astype('category'))"
   ]
  },
  {
   "cell_type": "code",
   "execution_count": 73,
   "metadata": {},
   "outputs": [],
   "source": [
    "train_data[cat_columns] = train_data[cat_columns].apply(lambda x: pd.factorize(x)[0])"
   ]
  },
  {
   "cell_type": "code",
   "execution_count": 78,
   "metadata": {
    "scrolled": true
   },
   "outputs": [],
   "source": [
    "train_data[cat_columns] = train_data[cat_columns].apply(lambda x: pd.to_numeric(x, downcast='integer'))"
   ]
  },
  {
   "cell_type": "code",
   "execution_count": 79,
   "metadata": {
    "scrolled": true
   },
   "outputs": [
    {
     "name": "stdout",
     "output_type": "stream",
     "text": [
      "<class 'pandas.core.frame.DataFrame'>\n",
      "Int64Index: 14446880 entries, 0 to 14446879\n",
      "Data columns (total 7 columns):\n",
      "patient_id         object\n",
      "event_name         int16\n",
      "event_time         int16\n",
      "specialty          int16\n",
      "plan_type          int8\n",
      "patient_payment    float32\n",
      "outcome_flag       int8\n",
      "dtypes: float32(1), int16(3), int8(2), object(1)\n",
      "memory usage: 385.8+ MB\n"
     ]
    }
   ],
   "source": [
    "train_data.info()"
   ]
  }
 ],
 "metadata": {
  "kernelspec": {
   "display_name": "Python 3",
   "language": "python",
   "name": "python3"
  },
  "language_info": {
   "codemirror_mode": {
    "name": "ipython",
    "version": 3
   },
   "file_extension": ".py",
   "mimetype": "text/x-python",
   "name": "python",
   "nbconvert_exporter": "python",
   "pygments_lexer": "ipython3",
   "version": "3.7.3"
  }
 },
 "nbformat": 4,
 "nbformat_minor": 2
}
